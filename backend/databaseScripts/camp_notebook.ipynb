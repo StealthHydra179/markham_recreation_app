{
 "cells": [
  {
   "cell_type": "markdown",
   "id": "c847b65af880e084",
   "metadata": {
    "collapsed": false
   },
   "source": [
    " python -m notebook\n"
   ]
  },
  {
   "cell_type": "code",
   "execution_count": 49,
   "id": "initial_id",
   "metadata": {
    "ExecuteTime": {
     "end_time": "2024-05-22T01:01:58.854660400Z",
     "start_time": "2024-05-22T01:01:58.819444100Z"
    },
    "collapsed": true
   },
   "outputs": [],
   "source": [
    "import pandas as pd\n",
    "import numpy as np"
   ]
  },
  {
   "cell_type": "code",
   "execution_count": 50,
   "id": "33348d5dbdefcefc",
   "metadata": {
    "ExecuteTime": {
     "end_time": "2024-05-22T01:01:59.371361200Z",
     "start_time": "2024-05-22T01:01:59.033138600Z"
    },
    "collapsed": false
   },
   "outputs": [
    {
     "data": {
      "text/html": [
       "<div>\n",
       "<style scoped>\n",
       "    .dataframe tbody tr th:only-of-type {\n",
       "        vertical-align: middle;\n",
       "    }\n",
       "\n",
       "    .dataframe tbody tr th {\n",
       "        vertical-align: top;\n",
       "    }\n",
       "\n",
       "    .dataframe thead th {\n",
       "        text-align: right;\n",
       "    }\n",
       "</style>\n",
       "<table border=\"1\" class=\"dataframe\">\n",
       "  <thead>\n",
       "    <tr style=\"text-align: right;\">\n",
       "      <th></th>\n",
       "      <th>Subject</th>\n",
       "      <th>Dates</th>\n",
       "      <th>Location</th>\n",
       "      <th>Area</th>\n",
       "    </tr>\n",
       "  </thead>\n",
       "  <tbody>\n",
       "    <tr>\n",
       "      <th>0</th>\n",
       "      <td>Web Development Camp</td>\n",
       "      <td>Aug 26, 2024 - Aug 30, 2024</td>\n",
       "      <td>Markham Village Community Centre</td>\n",
       "      <td>East &amp; Chimo</td>\n",
       "    </tr>\n",
       "    <tr>\n",
       "      <th>1</th>\n",
       "      <td>AI Starter</td>\n",
       "      <td>Aug 06, 2024 - Aug 09, 2024</td>\n",
       "      <td>Markham Village Community Centre</td>\n",
       "      <td>East &amp; Chimo</td>\n",
       "    </tr>\n",
       "    <tr>\n",
       "      <th>2</th>\n",
       "      <td>Lego Robotics w/ Mindstorm EV3 Camp</td>\n",
       "      <td>Jul 22, 2024 - Jul 26, 2024</td>\n",
       "      <td>Markham Village Community Centre</td>\n",
       "      <td>East &amp; Chimo</td>\n",
       "    </tr>\n",
       "    <tr>\n",
       "      <th>3</th>\n",
       "      <td>Lego Robotics w/ WeDo Camp</td>\n",
       "      <td>Aug 12, 2024 - Aug 16, 2024</td>\n",
       "      <td>Markham Village Community Centre</td>\n",
       "      <td>East &amp; Chimo</td>\n",
       "    </tr>\n",
       "    <tr>\n",
       "      <th>4</th>\n",
       "      <td>Lego Robotics w/ WeDo Camp</td>\n",
       "      <td>Jul 15, 2024 - Jul 19, 2024</td>\n",
       "      <td>Markham Village Community Centre</td>\n",
       "      <td>East &amp; Chimo</td>\n",
       "    </tr>\n",
       "    <tr>\n",
       "      <th>...</th>\n",
       "      <td>...</td>\n",
       "      <td>...</td>\n",
       "      <td>...</td>\n",
       "      <td>...</td>\n",
       "    </tr>\n",
       "    <tr>\n",
       "      <th>406</th>\n",
       "      <td>Academic Camp</td>\n",
       "      <td>Jul 29, 2024 - Aug 02, 2024</td>\n",
       "      <td>Thornhill Community Centre</td>\n",
       "      <td>West Area</td>\n",
       "    </tr>\n",
       "    <tr>\n",
       "      <th>407</th>\n",
       "      <td>Mechanical Engineer Camp</td>\n",
       "      <td>Aug 19, 2024 - Aug 23, 2024</td>\n",
       "      <td>Thornhill Community Centre</td>\n",
       "      <td>West Area</td>\n",
       "    </tr>\n",
       "    <tr>\n",
       "      <th>408</th>\n",
       "      <td>Mechanical Engineer Camp</td>\n",
       "      <td>Jul 08, 2024 - Jul 12, 2024</td>\n",
       "      <td>Thornhill Community Centre</td>\n",
       "      <td>West Area</td>\n",
       "    </tr>\n",
       "    <tr>\n",
       "      <th>409</th>\n",
       "      <td>Math &amp; Sciences</td>\n",
       "      <td>Aug 06, 2024 - Aug 09, 2024</td>\n",
       "      <td>Thornhill Community Centre</td>\n",
       "      <td>West Area</td>\n",
       "    </tr>\n",
       "    <tr>\n",
       "      <th>410</th>\n",
       "      <td>Math &amp; Sciences</td>\n",
       "      <td>Jul 02, 2024 - Jul 05, 2024</td>\n",
       "      <td>Thornhill Community Centre</td>\n",
       "      <td>West Area</td>\n",
       "    </tr>\n",
       "  </tbody>\n",
       "</table>\n",
       "<p>411 rows × 4 columns</p>\n",
       "</div>"
      ],
      "text/plain": [
       "                                 Subject                        Dates  \\\n",
       "0                   Web Development Camp  Aug 26, 2024 - Aug 30, 2024   \n",
       "1                             AI Starter  Aug 06, 2024 - Aug 09, 2024   \n",
       "2    Lego Robotics w/ Mindstorm EV3 Camp  Jul 22, 2024 - Jul 26, 2024   \n",
       "3             Lego Robotics w/ WeDo Camp  Aug 12, 2024 - Aug 16, 2024   \n",
       "4             Lego Robotics w/ WeDo Camp  Jul 15, 2024 - Jul 19, 2024   \n",
       "..                                   ...                          ...   \n",
       "406                        Academic Camp  Jul 29, 2024 - Aug 02, 2024   \n",
       "407             Mechanical Engineer Camp  Aug 19, 2024 - Aug 23, 2024   \n",
       "408             Mechanical Engineer Camp  Jul 08, 2024 - Jul 12, 2024   \n",
       "409                      Math & Sciences  Aug 06, 2024 - Aug 09, 2024   \n",
       "410                      Math & Sciences  Jul 02, 2024 - Jul 05, 2024   \n",
       "\n",
       "                             Location         Area   \n",
       "0    Markham Village Community Centre  East & Chimo  \n",
       "1    Markham Village Community Centre  East & Chimo  \n",
       "2    Markham Village Community Centre  East & Chimo  \n",
       "3    Markham Village Community Centre  East & Chimo  \n",
       "4    Markham Village Community Centre  East & Chimo  \n",
       "..                                ...           ...  \n",
       "406        Thornhill Community Centre     West Area  \n",
       "407        Thornhill Community Centre     West Area  \n",
       "408        Thornhill Community Centre     West Area  \n",
       "409        Thornhill Community Centre     West Area  \n",
       "410        Thornhill Community Centre     West Area  \n",
       "\n",
       "[411 rows x 4 columns]"
      ]
     },
     "execution_count": 50,
     "metadata": {},
     "output_type": "execute_result"
    }
   ],
   "source": [
    "df = pd.read_excel(\"Summer Camps 2024.xlsx\")\n",
    "df"
   ]
  },
  {
   "cell_type": "code",
   "execution_count": 51,
   "id": "bea6d38ae6c38932",
   "metadata": {
    "ExecuteTime": {
     "end_time": "2024-05-22T01:01:59.788894300Z",
     "start_time": "2024-05-22T01:01:59.596042700Z"
    },
    "collapsed": false
   },
   "outputs": [],
   "source": [
    "df[[\"Start Date\", \"End Date\"]] = df[\"Dates\"].str.split(' - ', n=1, expand=True)\n",
    "df = df.drop(columns='Dates')"
   ]
  },
  {
   "cell_type": "code",
   "execution_count": 52,
   "id": "dbca692534243da9",
   "metadata": {
    "ExecuteTime": {
     "end_time": "2024-05-22T01:02:00.510131200Z",
     "start_time": "2024-05-22T01:02:00.496654400Z"
    },
    "collapsed": false
   },
   "outputs": [
    {
     "data": {
      "text/html": [
       "<div>\n",
       "<style scoped>\n",
       "    .dataframe tbody tr th:only-of-type {\n",
       "        vertical-align: middle;\n",
       "    }\n",
       "\n",
       "    .dataframe tbody tr th {\n",
       "        vertical-align: top;\n",
       "    }\n",
       "\n",
       "    .dataframe thead th {\n",
       "        text-align: right;\n",
       "    }\n",
       "</style>\n",
       "<table border=\"1\" class=\"dataframe\">\n",
       "  <thead>\n",
       "    <tr style=\"text-align: right;\">\n",
       "      <th></th>\n",
       "      <th>Subject</th>\n",
       "      <th>Location</th>\n",
       "      <th>Area</th>\n",
       "      <th>Start Date</th>\n",
       "      <th>End Date</th>\n",
       "    </tr>\n",
       "  </thead>\n",
       "  <tbody>\n",
       "    <tr>\n",
       "      <th>0</th>\n",
       "      <td>Web Development Camp</td>\n",
       "      <td>Markham Village Community Centre</td>\n",
       "      <td>East &amp; Chimo</td>\n",
       "      <td>Aug 26, 2024</td>\n",
       "      <td>Aug 30, 2024</td>\n",
       "    </tr>\n",
       "    <tr>\n",
       "      <th>1</th>\n",
       "      <td>AI Starter</td>\n",
       "      <td>Markham Village Community Centre</td>\n",
       "      <td>East &amp; Chimo</td>\n",
       "      <td>Aug 06, 2024</td>\n",
       "      <td>Aug 09, 2024</td>\n",
       "    </tr>\n",
       "    <tr>\n",
       "      <th>2</th>\n",
       "      <td>Lego Robotics w/ Mindstorm EV3 Camp</td>\n",
       "      <td>Markham Village Community Centre</td>\n",
       "      <td>East &amp; Chimo</td>\n",
       "      <td>Jul 22, 2024</td>\n",
       "      <td>Jul 26, 2024</td>\n",
       "    </tr>\n",
       "    <tr>\n",
       "      <th>3</th>\n",
       "      <td>Lego Robotics w/ WeDo Camp</td>\n",
       "      <td>Markham Village Community Centre</td>\n",
       "      <td>East &amp; Chimo</td>\n",
       "      <td>Aug 12, 2024</td>\n",
       "      <td>Aug 16, 2024</td>\n",
       "    </tr>\n",
       "    <tr>\n",
       "      <th>4</th>\n",
       "      <td>Lego Robotics w/ WeDo Camp</td>\n",
       "      <td>Markham Village Community Centre</td>\n",
       "      <td>East &amp; Chimo</td>\n",
       "      <td>Jul 15, 2024</td>\n",
       "      <td>Jul 19, 2024</td>\n",
       "    </tr>\n",
       "    <tr>\n",
       "      <th>...</th>\n",
       "      <td>...</td>\n",
       "      <td>...</td>\n",
       "      <td>...</td>\n",
       "      <td>...</td>\n",
       "      <td>...</td>\n",
       "    </tr>\n",
       "    <tr>\n",
       "      <th>406</th>\n",
       "      <td>Academic Camp</td>\n",
       "      <td>Thornhill Community Centre</td>\n",
       "      <td>West Area</td>\n",
       "      <td>Jul 29, 2024</td>\n",
       "      <td>Aug 02, 2024</td>\n",
       "    </tr>\n",
       "    <tr>\n",
       "      <th>407</th>\n",
       "      <td>Mechanical Engineer Camp</td>\n",
       "      <td>Thornhill Community Centre</td>\n",
       "      <td>West Area</td>\n",
       "      <td>Aug 19, 2024</td>\n",
       "      <td>Aug 23, 2024</td>\n",
       "    </tr>\n",
       "    <tr>\n",
       "      <th>408</th>\n",
       "      <td>Mechanical Engineer Camp</td>\n",
       "      <td>Thornhill Community Centre</td>\n",
       "      <td>West Area</td>\n",
       "      <td>Jul 08, 2024</td>\n",
       "      <td>Jul 12, 2024</td>\n",
       "    </tr>\n",
       "    <tr>\n",
       "      <th>409</th>\n",
       "      <td>Math &amp; Sciences</td>\n",
       "      <td>Thornhill Community Centre</td>\n",
       "      <td>West Area</td>\n",
       "      <td>Aug 06, 2024</td>\n",
       "      <td>Aug 09, 2024</td>\n",
       "    </tr>\n",
       "    <tr>\n",
       "      <th>410</th>\n",
       "      <td>Math &amp; Sciences</td>\n",
       "      <td>Thornhill Community Centre</td>\n",
       "      <td>West Area</td>\n",
       "      <td>Jul 02, 2024</td>\n",
       "      <td>Jul 05, 2024</td>\n",
       "    </tr>\n",
       "  </tbody>\n",
       "</table>\n",
       "<p>411 rows × 5 columns</p>\n",
       "</div>"
      ],
      "text/plain": [
       "                                 Subject                          Location  \\\n",
       "0                   Web Development Camp  Markham Village Community Centre   \n",
       "1                             AI Starter  Markham Village Community Centre   \n",
       "2    Lego Robotics w/ Mindstorm EV3 Camp  Markham Village Community Centre   \n",
       "3             Lego Robotics w/ WeDo Camp  Markham Village Community Centre   \n",
       "4             Lego Robotics w/ WeDo Camp  Markham Village Community Centre   \n",
       "..                                   ...                               ...   \n",
       "406                        Academic Camp        Thornhill Community Centre   \n",
       "407             Mechanical Engineer Camp        Thornhill Community Centre   \n",
       "408             Mechanical Engineer Camp        Thornhill Community Centre   \n",
       "409                      Math & Sciences        Thornhill Community Centre   \n",
       "410                      Math & Sciences        Thornhill Community Centre   \n",
       "\n",
       "            Area     Start Date      End Date  \n",
       "0    East & Chimo  Aug 26, 2024  Aug 30, 2024  \n",
       "1    East & Chimo  Aug 06, 2024  Aug 09, 2024  \n",
       "2    East & Chimo  Jul 22, 2024  Jul 26, 2024  \n",
       "3    East & Chimo  Aug 12, 2024  Aug 16, 2024  \n",
       "4    East & Chimo  Jul 15, 2024  Jul 19, 2024  \n",
       "..            ...           ...           ...  \n",
       "406     West Area  Jul 29, 2024  Aug 02, 2024  \n",
       "407     West Area  Aug 19, 2024  Aug 23, 2024  \n",
       "408     West Area  Jul 08, 2024  Jul 12, 2024  \n",
       "409     West Area  Aug 06, 2024  Aug 09, 2024  \n",
       "410     West Area  Jul 02, 2024  Jul 05, 2024  \n",
       "\n",
       "[411 rows x 5 columns]"
      ]
     },
     "execution_count": 52,
     "metadata": {},
     "output_type": "execute_result"
    }
   ],
   "source": [
    "df"
   ]
  },
  {
   "cell_type": "code",
   "execution_count": 53,
   "id": "2a9e6845478ef7f4",
   "metadata": {
    "ExecuteTime": {
     "end_time": "2024-05-22T01:02:01.383497800Z",
     "start_time": "2024-05-22T01:02:01.325208500Z"
    },
    "collapsed": false
   },
   "outputs": [
    {
     "data": {
      "text/html": [
       "<div>\n",
       "<style scoped>\n",
       "    .dataframe tbody tr th:only-of-type {\n",
       "        vertical-align: middle;\n",
       "    }\n",
       "\n",
       "    .dataframe tbody tr th {\n",
       "        vertical-align: top;\n",
       "    }\n",
       "\n",
       "    .dataframe thead th {\n",
       "        text-align: right;\n",
       "    }\n",
       "</style>\n",
       "<table border=\"1\" class=\"dataframe\">\n",
       "  <thead>\n",
       "    <tr style=\"text-align: right;\">\n",
       "      <th></th>\n",
       "      <th>Location</th>\n",
       "      <th>Area</th>\n",
       "    </tr>\n",
       "  </thead>\n",
       "  <tbody>\n",
       "    <tr>\n",
       "      <th>0</th>\n",
       "      <td>Markham Village Community Centre</td>\n",
       "      <td>East &amp; Chimo</td>\n",
       "    </tr>\n",
       "    <tr>\n",
       "      <th>12</th>\n",
       "      <td>Centennial Community Centre</td>\n",
       "      <td>East &amp; Chimo</td>\n",
       "    </tr>\n",
       "    <tr>\n",
       "      <th>19</th>\n",
       "      <td>Legacy Public School</td>\n",
       "      <td>East &amp; Chimo</td>\n",
       "    </tr>\n",
       "    <tr>\n",
       "      <th>24</th>\n",
       "      <td>Bill Hogarth Secondary School</td>\n",
       "      <td>East &amp; Chimo</td>\n",
       "    </tr>\n",
       "    <tr>\n",
       "      <th>31</th>\n",
       "      <td>Chimo</td>\n",
       "      <td>East &amp; Chimo</td>\n",
       "    </tr>\n",
       "    <tr>\n",
       "      <th>58</th>\n",
       "      <td>Cornell Community Centre</td>\n",
       "      <td>East &amp; Chimo</td>\n",
       "    </tr>\n",
       "    <tr>\n",
       "      <th>76</th>\n",
       "      <td>Reesor Park Public School</td>\n",
       "      <td>East &amp; Chimo</td>\n",
       "    </tr>\n",
       "    <tr>\n",
       "      <th>81</th>\n",
       "      <td>Mount Joy Community Centre</td>\n",
       "      <td>East &amp; Chimo</td>\n",
       "    </tr>\n",
       "    <tr>\n",
       "      <th>135</th>\n",
       "      <td>Various</td>\n",
       "      <td>Inclusion</td>\n",
       "    </tr>\n",
       "    <tr>\n",
       "      <th>144</th>\n",
       "      <td>Angus Glen Community Centre</td>\n",
       "      <td>North</td>\n",
       "    </tr>\n",
       "    <tr>\n",
       "      <th>147</th>\n",
       "      <td>Crosby Community Centre</td>\n",
       "      <td>North</td>\n",
       "    </tr>\n",
       "    <tr>\n",
       "      <th>153</th>\n",
       "      <td>Angus Glen Tennis Centre</td>\n",
       "      <td>North</td>\n",
       "    </tr>\n",
       "    <tr>\n",
       "      <th>179</th>\n",
       "      <td>Unionville Train Station Community Centre</td>\n",
       "      <td>North</td>\n",
       "    </tr>\n",
       "    <tr>\n",
       "      <th>189</th>\n",
       "      <td>Victoria Square Public School</td>\n",
       "      <td>North</td>\n",
       "    </tr>\n",
       "    <tr>\n",
       "      <th>205</th>\n",
       "      <td>Aaniin Community Centre</td>\n",
       "      <td>South East Area</td>\n",
       "    </tr>\n",
       "    <tr>\n",
       "      <th>216</th>\n",
       "      <td>Rouge River Community Centre</td>\n",
       "      <td>South East Area</td>\n",
       "    </tr>\n",
       "    <tr>\n",
       "      <th>250</th>\n",
       "      <td>Milliken Mills Community Centre</td>\n",
       "      <td>South West Area</td>\n",
       "    </tr>\n",
       "    <tr>\n",
       "      <th>260</th>\n",
       "      <td>Milliken Mills High School</td>\n",
       "      <td>South West Area</td>\n",
       "    </tr>\n",
       "    <tr>\n",
       "      <th>277</th>\n",
       "      <td>Milliken Mills Soccer Dome</td>\n",
       "      <td>South West Area</td>\n",
       "    </tr>\n",
       "    <tr>\n",
       "      <th>295</th>\n",
       "      <td>Armadale Community Centre</td>\n",
       "      <td>South West Area</td>\n",
       "    </tr>\n",
       "    <tr>\n",
       "      <th>313</th>\n",
       "      <td>Thornhill Community Centre</td>\n",
       "      <td>West Area</td>\n",
       "    </tr>\n",
       "    <tr>\n",
       "      <th>320</th>\n",
       "      <td>Clatworthy Arena</td>\n",
       "      <td>West Area</td>\n",
       "    </tr>\n",
       "    <tr>\n",
       "      <th>359</th>\n",
       "      <td>Thornlea Pool &amp; Gymnasium</td>\n",
       "      <td>West Area</td>\n",
       "    </tr>\n",
       "    <tr>\n",
       "      <th>368</th>\n",
       "      <td>Thornlea Secondary School</td>\n",
       "      <td>West Area</td>\n",
       "    </tr>\n",
       "  </tbody>\n",
       "</table>\n",
       "</div>"
      ],
      "text/plain": [
       "                                      Location            Area \n",
       "0             Markham Village Community Centre     East & Chimo\n",
       "12                 Centennial Community Centre     East & Chimo\n",
       "19                        Legacy Public School     East & Chimo\n",
       "24               Bill Hogarth Secondary School     East & Chimo\n",
       "31                                       Chimo     East & Chimo\n",
       "58                    Cornell Community Centre     East & Chimo\n",
       "76                   Reesor Park Public School     East & Chimo\n",
       "81                  Mount Joy Community Centre     East & Chimo\n",
       "135                                    Various        Inclusion\n",
       "144                Angus Glen Community Centre            North\n",
       "147                    Crosby Community Centre            North\n",
       "153                   Angus Glen Tennis Centre            North\n",
       "179  Unionville Train Station Community Centre            North\n",
       "189              Victoria Square Public School            North\n",
       "205                    Aaniin Community Centre  South East Area\n",
       "216               Rouge River Community Centre  South East Area\n",
       "250            Milliken Mills Community Centre  South West Area\n",
       "260                 Milliken Mills High School  South West Area\n",
       "277                 Milliken Mills Soccer Dome  South West Area\n",
       "295                  Armadale Community Centre  South West Area\n",
       "313                 Thornhill Community Centre        West Area\n",
       "320                           Clatworthy Arena        West Area\n",
       "359                  Thornlea Pool & Gymnasium        West Area\n",
       "368                  Thornlea Secondary School        West Area"
      ]
     },
     "execution_count": 53,
     "metadata": {},
     "output_type": "execute_result"
    }
   ],
   "source": [
    "#Create list of unique locations, create list of unique area\n",
    "uniqueLocation = df.drop_duplicates(subset=\"Location\")[[\"Location\", \"Area \"]]\n",
    "uniqueLocation"
   ]
  },
  {
   "cell_type": "code",
   "execution_count": 54,
   "id": "d9b8b5fcad4708df",
   "metadata": {
    "ExecuteTime": {
     "end_time": "2024-05-22T01:02:02.206609700Z",
     "start_time": "2024-05-22T01:02:02.162533200Z"
    },
    "collapsed": false
   },
   "outputs": [
    {
     "data": {
      "text/plain": [
       "array(['East & Chimo', 'Inclusion', 'North', 'South East Area',\n",
       "       'South West Area', 'West Area'], dtype=object)"
      ]
     },
     "execution_count": 54,
     "metadata": {},
     "output_type": "execute_result"
    }
   ],
   "source": [
    "uniqueArea = df[\"Area \"].unique()\n",
    "uniqueArea"
   ]
  },
  {
   "cell_type": "code",
   "execution_count": 58,
   "id": "cfb17e2baadcd9bd",
   "metadata": {
    "ExecuteTime": {
     "end_time": "2024-05-22T01:03:26.191831900Z",
     "start_time": "2024-05-22T01:03:26.181611400Z"
    },
    "collapsed": false
   },
   "outputs": [],
   "source": [
    "outputFile =  open(\"SQL_update.txt\", \"w\")\n",
    "# outputFile.close()"
   ]
  },
  {
   "cell_type": "code",
   "execution_count": 59,
   "id": "ce97a9df9373b46e",
   "metadata": {
    "ExecuteTime": {
     "end_time": "2024-05-22T01:03:27.034649400Z",
     "start_time": "2024-05-22T01:03:27.022604900Z"
    },
    "collapsed": false
   },
   "outputs": [],
   "source": [
    "# outputFile.close()"
   ]
  },
  {
   "cell_type": "code",
   "execution_count": 60,
   "id": "12824fb704e54d72",
   "metadata": {
    "ExecuteTime": {
     "end_time": "2024-05-22T01:03:27.350209500Z",
     "start_time": "2024-05-22T01:03:27.334625300Z"
    },
    "collapsed": false
   },
   "outputs": [
    {
     "name": "stdout",
     "output_type": "stream",
     "text": [
      "INSERT INTO markham_rec.camp_location VALUES (0,'East & Chimo');\n",
      "\n",
      "INSERT INTO markham_rec.camp_location VALUES (1,'Inclusion');\n",
      "\n",
      "INSERT INTO markham_rec.camp_location VALUES (2,'North');\n",
      "\n",
      "INSERT INTO markham_rec.camp_location VALUES (3,'South East Area');\n",
      "\n",
      "INSERT INTO markham_rec.camp_location VALUES (4,'South West Area');\n",
      "\n",
      "INSERT INTO markham_rec.camp_location VALUES (5,'West Area');\n"
     ]
    }
   ],
   "source": [
    "for index, item in enumerate(uniqueArea):\n",
    "    outputString = \"INSERT INTO markham_rec.camp_location VALUES (\" + str(index+1) + \",'\" + str(item) + \"');\\n\"\n",
    "    #str(item[\"Location\"]) + \" \" + \n",
    "    outputFile.write(outputString)\n",
    "    print(outputString)"
   ]
  },
  {
   "cell_type": "code",
   "execution_count": 64,
   "id": "7493a96bfa549e0b",
   "metadata": {
    "ExecuteTime": {
     "end_time": "2024-05-22T18:21:56.320831200Z",
     "start_time": "2024-05-22T18:21:56.291593800Z"
    },
    "collapsed": false
   },
   "outputs": [
    {
     "name": "stdout",
     "output_type": "stream",
     "text": [
      "Subject                 Basketball Camp\n",
      "Location      Thornlea Secondary School\n",
      "Area                          West Area\n",
      "Start Date                 Jul 22, 2024\n",
      "End Date                   Jul 26, 2024\n",
      "Name: 368, dtype: object\n"
     ]
    }
   ],
   "source": [
    "for index, item in df.iterrows():\n",
    "    if index == 368:\n",
    "        print(item)"
   ]
  },
  {
   "cell_type": "code",
   "execution_count": null,
   "id": "a91f201fb32d0c69",
   "metadata": {
    "collapsed": false
   },
   "outputs": [],
   "source": []
  }
 ],
 "metadata": {
  "kernelspec": {
   "display_name": "Python 3",
   "language": "python",
   "name": "python3"
  },
  "language_info": {
   "codemirror_mode": {
    "name": "ipython",
    "version": 2
   },
   "file_extension": ".py",
   "mimetype": "text/x-python",
   "name": "python",
   "nbconvert_exporter": "python",
   "pygments_lexer": "ipython2",
   "version": "2.7.6"
  }
 },
 "nbformat": 4,
 "nbformat_minor": 5
}
